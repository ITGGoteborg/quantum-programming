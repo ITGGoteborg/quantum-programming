{
 "cells": [
  {
   "cell_type": "markdown",
   "metadata": {
    "slideshow": {
     "slide_type": "slide"
    }
   },
   "source": [
    "# Q# #\n",
    "\n",
    "IQ# krävs för att köra denna Notebook.\n",
    "\n",
    "Q# är utvecklat av Microsoft, designat för kvantprogrammering och är menat att interagera med ett annat, klassiskt programmeringsspråk.\n",
    "\n",
    "I **Q#** skriver man så kallade **operationer**, eller subrutiner, som gör kvantberäkningar. Dessa kan sedan köras från\n",
    "ett klassiskt programmeringsspråk. Vi börjar med det enklaste av exempel."
   ]
  },
  {
   "cell_type": "code",
   "execution_count": 1,
   "metadata": {
    "slideshow": {
     "slide_type": "subslide"
    }
   },
   "outputs": [
    {
     "data": {
      "application/json": "[\"HelloWorld\"]",
      "text/html": [
       "<ul><li>HelloWorld</li></ul>"
      ],
      "text/plain": [
       "HelloWorld"
      ]
     },
     "execution_count": 1,
     "metadata": {},
     "output_type": "execute_result"
    }
   ],
   "source": [
    "operation HelloWorld() : Unit {\n",
    "    Message(\"Hello World!\");\n",
    "}"
   ]
  },
  {
   "cell_type": "markdown",
   "metadata": {
    "slideshow": {
     "slide_type": "fragment"
    }
   },
   "source": [
    "För att sedan köra detta måste vi simulera kvantbitar, då vi inte har en kvantdator."
   ]
  },
  {
   "cell_type": "code",
   "execution_count": 2,
   "metadata": {
    "slideshow": {
     "slide_type": "fragment"
    }
   },
   "outputs": [
    {
     "name": "stdout",
     "output_type": "stream",
     "text": [
      "Hello World!\n"
     ]
    },
    {
     "data": {
      "application/json": "{\"@type\":\"tuple\"}",
      "text/plain": [
       "()"
      ]
     },
     "execution_count": 2,
     "metadata": {},
     "output_type": "execute_result"
    }
   ],
   "source": [
    "%simulate HelloWorld"
   ]
  },
  {
   "cell_type": "markdown",
   "metadata": {
    "slideshow": {
     "slide_type": "slide"
    }
   },
   "source": [
    "# Kvantbitar i Q# #\n",
    "\n",
    "Än så länge är detta ingenting annorlunda, så låt oss kliva in i kvantvärlden genom att skaffa oss en kvantbit."
   ]
  },
  {
   "cell_type": "code",
   "execution_count": 3,
   "metadata": {
    "slideshow": {
     "slide_type": "subslide"
    }
   },
   "outputs": [
    {
     "data": {
      "application/json": "[\"QubitFlip\"]",
      "text/html": [
       "<ul><li>QubitFlip</li></ul>"
      ],
      "text/plain": [
       "QubitFlip"
      ]
     },
     "execution_count": 3,
     "metadata": {},
     "output_type": "execute_result"
    }
   ],
   "source": [
    "operation QubitFlip() : Unit {\n",
    "    \n",
    "    // Get one qubit\n",
    "    using (qubit = Qubit()) {\n",
    "        \n",
    "        // Qubits are initialized as |0>\n",
    "        let measure_first = M(qubit);\n",
    "        Message($\"Initial measure: {measure_first}\");\n",
    "        \n",
    "        // Flip it to |1>\n",
    "        X(qubit);\n",
    "        \n",
    "        // Measure to verify that it is flipped.\n",
    "        let measure_second = M(qubit);\n",
    "        Message($\"After flip: {measure_second}\");\n",
    "        \n",
    "        // Reset to |0>\n",
    "        X(qubit);\n",
    "    }\n",
    "}"
   ]
  },
  {
   "cell_type": "code",
   "execution_count": 4,
   "metadata": {
    "slideshow": {
     "slide_type": "fragment"
    }
   },
   "outputs": [
    {
     "name": "stdout",
     "output_type": "stream",
     "text": [
      "Initial measure: Zero\n",
      "After flip: One\n"
     ]
    },
    {
     "data": {
      "application/json": "{\"@type\":\"tuple\"}",
      "text/plain": [
       "()"
      ]
     },
     "execution_count": 4,
     "metadata": {},
     "output_type": "execute_result"
    }
   ],
   "source": [
    "%simulate QubitFlip"
   ]
  },
  {
   "cell_type": "markdown",
   "metadata": {
    "slideshow": {
     "slide_type": "slide"
    }
   },
   "source": [
    "# Superposition\n",
    "\n",
    "Som vi vet kan kvantbitar vara i superposition mellan **0** och __1__, så låt oss se hur detta fungerar i Q#."
   ]
  },
  {
   "cell_type": "code",
   "execution_count": 5,
   "metadata": {
    "slideshow": {
     "slide_type": "fragment"
    }
   },
   "outputs": [
    {
     "data": {
      "application/json": "[\"MeasureSuperposition\"]",
      "text/html": [
       "<ul><li>MeasureSuperposition</li></ul>"
      ],
      "text/plain": [
       "MeasureSuperposition"
      ]
     },
     "execution_count": 5,
     "metadata": {},
     "output_type": "execute_result"
    }
   ],
   "source": [
    "operation MeasureSuperposition(qubit : Qubit) : Result {\n",
    "    // Assuming the qubit is initialized as |0>\n",
    "    \n",
    "    // Change the qubit to a superposition state with a Hadamard gate\n",
    "    H(qubit);\n",
    "    \n",
    "    // Measure the qubit. This collapses the superposition and\n",
    "    // should measure |1> 50% of the time.\n",
    "    let measure = M(qubit);\n",
    "    \n",
    "    return measure;\n",
    "}"
   ]
  },
  {
   "cell_type": "code",
   "execution_count": 6,
   "metadata": {
    "slideshow": {
     "slide_type": "subslide"
    }
   },
   "outputs": [
    {
     "data": {
      "application/json": "[\"TestMeasurement\"]",
      "text/html": [
       "<ul><li>TestMeasurement</li></ul>"
      ],
      "text/plain": [
       "TestMeasurement"
      ]
     },
     "execution_count": 6,
     "metadata": {},
     "output_type": "execute_result"
    }
   ],
   "source": [
    "// Need to bring in the Convert namespace to access ResultArrayAsInt\n",
    "open Microsoft.Quantum.Convert;\n",
    "\n",
    "operation TestMeasurement() : Unit {\n",
    "\n",
    "    // Measure an even superposition 10,000 times.\n",
    "    let iterations = 10000;\n",
    "    mutable sum = 0;\n",
    "\n",
    "    using (qubit = Qubit()) {\n",
    "        // Qubits are initialized to |0>\n",
    "        \n",
    "        for (i in 0..iterations - 1) {\n",
    "        \n",
    "            // Create a superposition and measure it.\n",
    "            let result = MeasureSuperposition(qubit);\n",
    "            \n",
    "            set sum = sum + ResultArrayAsInt([result]);\n",
    "            \n",
    "            // Reset the qubit to |0>\n",
    "            if (M(qubit) == One) {\n",
    "                X(qubit);\n",
    "            }\n",
    "        }\n",
    "    }\n",
    "    \n",
    "    Message($\"Ones measured: {sum}\");\n",
    "    Message($\"Zeros measured: {iterations - sum}\");\n",
    "}"
   ]
  },
  {
   "cell_type": "code",
   "execution_count": 7,
   "metadata": {
    "slideshow": {
     "slide_type": "fragment"
    }
   },
   "outputs": [
    {
     "name": "stdout",
     "output_type": "stream",
     "text": [
      "Ones measured: 4947\n",
      "Zeros measured: 5053\n"
     ]
    },
    {
     "data": {
      "application/json": "{\"@type\":\"tuple\"}",
      "text/plain": [
       "()"
      ]
     },
     "execution_count": 7,
     "metadata": {},
     "output_type": "execute_result"
    }
   ],
   "source": [
    "%simulate TestMeasurement"
   ]
  },
  {
   "cell_type": "markdown",
   "metadata": {},
   "source": [
    "# Sammanflätning\n",
    "\n",
    "En av de stora fördelarna med kvantprogrammering är att du kan sammanfläta två kvantpartiklar. Deras tillstånd är\n",
    "då beroende av den andras. Man kan genomföra detta med en **Hadamard-grind** och en __CNOT-grind__."
   ]
  },
  {
   "cell_type": "code",
   "execution_count": 8,
   "metadata": {},
   "outputs": [
    {
     "data": {
      "application/json": "[\"Entangle\",\"Reset\"]",
      "text/html": [
       "<ul><li>Entangle</li><li>Reset</li></ul>"
      ],
      "text/plain": [
       "Entangle, Reset"
      ]
     },
     "execution_count": 8,
     "metadata": {},
     "output_type": "execute_result"
    }
   ],
   "source": [
    "operation Entangle(qubit1: Qubit, qubit2: Qubit) : Unit {\n",
    "    \n",
    "    // Put the first qubit in |+> with a Hadamard gate\n",
    "    H(qubit1);\n",
    "    \n",
    "    // Make a controlled NOT with the second qubit as target,\n",
    "    // and the first qubit as control\n",
    "    CNOT(qubit1, qubit2);\n",
    "    \n",
    "    // These qubits should now be entangled.\n",
    "}\n",
    "\n",
    "operation Reset(qubit: Qubit) : Unit {\n",
    "    // Resets the qubit to the |0> state.\n",
    "    if (M(qubit) == One) {\n",
    "        X(qubit);\n",
    "    }\n",
    "}"
   ]
  },
  {
   "cell_type": "markdown",
   "metadata": {},
   "source": [
    "Vi kan nu testa att dessa faktiskt är sammanflätade. Om de är det så borde fördelningen mellan 1 och 0 om vi mäter första kvantbiten fortfarande vara runt 50%, men varje gång vi mäter 1 på första kvantbiten så borde vi även mäta 1 från andra kvantbiten (samma sak gäller för 0)."
   ]
  },
  {
   "cell_type": "code",
   "execution_count": 9,
   "metadata": {},
   "outputs": [
    {
     "data": {
      "application/json": "[\"TestEntanglement\"]",
      "text/html": [
       "<ul><li>TestEntanglement</li></ul>"
      ],
      "text/plain": [
       "TestEntanglement"
      ]
     },
     "execution_count": 9,
     "metadata": {},
     "output_type": "execute_result"
    }
   ],
   "source": [
    "open Microsoft.Quantum.Convert;\n",
    "\n",
    "operation TestEntanglement() : Unit {\n",
    "\n",
    "    // Measure an even superposition 10,000 times.\n",
    "    let iterations = 10000;\n",
    "    \n",
    "    // The sum of the measured value of the first qubit.\n",
    "    mutable sum = 0;\n",
    "    \n",
    "    // The times the first qubit measure equal the second qubit measure.\n",
    "    mutable times_equal = 0;\n",
    "\n",
    "    using ((qubit1, qubit2) = (Qubit(), Qubit())) {\n",
    "        // Qubits are initialized to |0>\n",
    "        \n",
    "        for (i in 0..iterations - 1) {\n",
    "        \n",
    "            // Entangle the qubits\n",
    "            Entangle(qubit1, qubit2);\n",
    "            \n",
    "            // Measure the first qubit and increment the sum\n",
    "            let measure1 = M(qubit1);\n",
    "            set sum = sum + ResultArrayAsInt([measure1]);\n",
    "            \n",
    "            // Measure the second qubit\n",
    "            let measure2 = M(qubit2);\n",
    "            if (measure1 == measure2) {\n",
    "                set times_equal = times_equal + 1;\n",
    "            }\n",
    "            \n",
    "            // Reset the qubits to |0>\n",
    "            Reset(qubit1); Reset(qubit2);\n",
    "        }\n",
    "    }\n",
    "    \n",
    "    Message($\"Ones measured: {sum}\");\n",
    "    Message($\"Zeros measured: {iterations - sum}\");\n",
    "    Message($\"Times measured equal: {times_equal}\");\n",
    "}"
   ]
  },
  {
   "cell_type": "code",
   "execution_count": 10,
   "metadata": {},
   "outputs": [
    {
     "name": "stdout",
     "output_type": "stream",
     "text": [
      "Ones measured: 4952\n",
      "Zeros measured: 5048\n",
      "Times measured equal: 10000\n"
     ]
    },
    {
     "data": {
      "application/json": "{\"@type\":\"tuple\"}",
      "text/plain": [
       "()"
      ]
     },
     "execution_count": 10,
     "metadata": {},
     "output_type": "execute_result"
    }
   ],
   "source": [
    "%simulate TestEntanglement"
   ]
  },
  {
   "cell_type": "markdown",
   "metadata": {},
   "source": [
    "# Ett mer konkret exempel: Superdense Coding\n",
    "\n",
    "Vi kommer nu gå igenom stegen för att implementera superdense coding (supertät kodning) med kvantbitar. Superdense Coding innebär att två personer, Alice och Bob, kan kommunicera två bitar information genom att enbart skicka en kvantbit till den andra, med antagandet att de båda hade var sin partikel av ett sammanflätat par."
   ]
  },
  {
   "cell_type": "code",
   "execution_count": 14,
   "metadata": {},
   "outputs": [
    {
     "data": {
      "application/json": "[\"Superdense\"]",
      "text/html": [
       "<ul><li>Superdense</li></ul>"
      ],
      "text/plain": [
       "Superdense"
      ]
     },
     "execution_count": 14,
     "metadata": {},
     "output_type": "execute_result"
    }
   ],
   "source": [
    "open Microsoft.Quantum.Math;\n",
    "\n",
    "operation Superdense() : Unit {\n",
    "\n",
    "    using ( (AliceQ, BobQ) = (Qubit(), Qubit()) ) {\n",
    "        // Sammanfläta kvantbitarna.\n",
    "        Entangle(AliceQ, BobQ);\n",
    "        \n",
    "        // Vid det här laget kan Alice och Bob gå skilda vägar, och\n",
    "        // tar med sig sin egna kvantbit.\n",
    "        \n",
    "        // Senare vill Alice skicka ett meddelande.\n",
    "        let message = [RandomInt(2), RandomInt(2)];\n",
    "        Message($\"Message: {message}\");\n",
    "\n",
    "        // Alice kodar meddelandet i sin kvantbit.\n",
    "        Encode(AliceQ, message);\n",
    "\n",
    "        // Hon skickar sedan sin kvantbit till Bob.\n",
    "        \n",
    "        // Först avkodar Bob meddelandet.\n",
    "        Decode(AliceQ, BobQ);\n",
    "        \n",
    "        // Bob kan då extrahera meddelandet ur sin och Alices kvantbit.\n",
    "        ExtractMessage(AliceQ, BobQ);\n",
    "\n",
    "        // Återställ alla kvantbitar till |0>.\n",
    "        Reset(AliceQ); Reset(BobQ); \n",
    "    } \n",
    "}"
   ]
  },
  {
   "cell_type": "markdown",
   "metadata": {},
   "source": [
    "## Kodning av meddelandet\n",
    "\n",
    "Alice kan koda meddelandet på följande sätt:\n",
    "\n",
    " - Om hon vill skicka |00> så gör hon ingenting med sin kvantbit.\n",
    " - Om hon vill skicka |01> så utför hon X på sin kvantbit.\n",
    " - Om hon vill skicka |10> så utför hon Z på sin kvantbit.\n",
    " - Om hon vill skicka |11> så utför hon både Z och X på sin kvantbit."
   ]
  },
  {
   "cell_type": "code",
   "execution_count": 11,
   "metadata": {},
   "outputs": [
    {
     "data": {
      "application/json": "[\"Encode\"]",
      "text/html": [
       "<ul><li>Encode</li></ul>"
      ],
      "text/plain": [
       "Encode"
      ]
     },
     "execution_count": 11,
     "metadata": {},
     "output_type": "execute_result"
    }
   ],
   "source": [
    "operation Encode(AliceQ : Qubit, message : Int[]) : Unit {\n",
    "    // Koda meddelandet i Alice kvantbit.\n",
    "    if (message[0] == 0 and message[1] == 0) {\n",
    "        // Gör ingenting\n",
    "    } elif (message[0] == 0 and message[1] == 1) {\n",
    "        X(AliceQ);\n",
    "    } elif (message[0] == 1 and message[1] == 0) {\n",
    "        Z(AliceQ);\n",
    "    } elif (message[0] == 1 and message[1] == 1) {\n",
    "        Z(AliceQ);\n",
    "        X(AliceQ);\n",
    "    }\n",
    "}"
   ]
  },
  {
   "cell_type": "code",
   "execution_count": 12,
   "metadata": {},
   "outputs": [
    {
     "data": {
      "application/json": "[\"Decode\"]",
      "text/html": [
       "<ul><li>Decode</li></ul>"
      ],
      "text/plain": [
       "Decode"
      ]
     },
     "execution_count": 12,
     "metadata": {},
     "output_type": "execute_result"
    }
   ],
   "source": [
    "operation Decode(AliceQ : Qubit, BobQ : Qubit) : Unit {\n",
    "    // Avkoda meddelandet med båda kvantbitarna.\n",
    "    CNOT(AliceQ, BobQ);\n",
    "    H(AliceQ);\n",
    "}"
   ]
  },
  {
   "cell_type": "code",
   "execution_count": 13,
   "metadata": {},
   "outputs": [
    {
     "data": {
      "application/json": "[\"ExtractMessage\"]",
      "text/html": [
       "<ul><li>ExtractMessage</li></ul>"
      ],
      "text/plain": [
       "ExtractMessage"
      ]
     },
     "execution_count": 13,
     "metadata": {},
     "output_type": "execute_result"
    }
   ],
   "source": [
    "operation ExtractMessage(AliceQ : Qubit, BobQ : Qubit) : Unit {\n",
    "    // Extrahera meddelandet genom att mäta kvantbitarna.\n",
    "    let alice = M(AliceQ);\n",
    "    let bob = M(BobQ);\n",
    "    Message($\"Received: {alice}, {bob}\");\n",
    "}"
   ]
  },
  {
   "cell_type": "code",
   "execution_count": 27,
   "metadata": {},
   "outputs": [
    {
     "name": "stdout",
     "output_type": "stream",
     "text": [
      "Message: [1,0]\n",
      "Received: One, Zero\n"
     ]
    },
    {
     "data": {
      "application/json": "{\"@type\":\"tuple\"}",
      "text/plain": [
       "()"
      ]
     },
     "execution_count": 27,
     "metadata": {},
     "output_type": "execute_result"
    }
   ],
   "source": [
    "%simulate Superdense"
   ]
  },
  {
   "cell_type": "code",
   "execution_count": null,
   "metadata": {},
   "outputs": [],
   "source": []
  }
 ],
 "metadata": {
  "kernelspec": {
   "display_name": "Q#",
   "language": "qsharp",
   "name": "iqsharp"
  },
  "language_info": {
   "file_extension": ".qs",
   "mimetype": "text/x-qsharp",
   "name": "qsharp",
   "version": "0.4"
  }
 },
 "nbformat": 4,
 "nbformat_minor": 2
}
